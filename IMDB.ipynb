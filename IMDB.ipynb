{
 "cells": [
  {
   "cell_type": "code",
   "execution_count": null,
   "id": "94fe5911-1c53-451b-936b-5624885ec0b2",
   "metadata": {},
   "outputs": [],
   "source": [
    "import pandas as pd\n",
    "import seaborn as sns\n",
    "import matplotlib.pyplot as plt"
   ]
  },
  {
   "cell_type": "code",
   "execution_count": null,
   "id": "d8a37621-d543-4413-a113-fee2eea142fb",
   "metadata": {},
   "outputs": [],
   "source": [
    "data = pd.read_csv('IMDB-Movie-Data.csv')"
   ]
  },
  {
   "cell_type": "markdown",
   "id": "2635719f-565a-4f30-92b3-5daaf26e3f9d",
   "metadata": {},
   "source": [
    "### 1. Display top 10 rows of the dataset"
   ]
  },
  {
   "cell_type": "code",
   "execution_count": null,
   "id": "2969107f-6124-4ef9-8163-fb870d425bf5",
   "metadata": {},
   "outputs": [],
   "source": [
    "data.head(10) #if we write data.head() it will show us the first 5 rows by default"
   ]
  },
  {
   "cell_type": "markdown",
   "id": "89aca1e4-442d-43d3-acae-196abb0b8d02",
   "metadata": {},
   "source": [
    "### 2. Display last 10 rows of the dataset"
   ]
  },
  {
   "cell_type": "code",
   "execution_count": null,
   "id": "c36a1fb0-dc90-4c67-ae36-8e55b4e47929",
   "metadata": {},
   "outputs": [],
   "source": [
    "data.tail(10) #we can also check from the output how many entries we have in our dataset (here we have 1000)"
   ]
  },
  {
   "cell_type": "markdown",
   "id": "ceeeccfd-ca39-4a32-aed6-25976ce9c275",
   "metadata": {},
   "source": [
    "### 3. Find shape of our dataset (number of rows and number of columns)"
   ]
  },
  {
   "cell_type": "code",
   "execution_count": null,
   "id": "b8e9c0ea-e93b-43e7-ae86-49b35d79291b",
   "metadata": {},
   "outputs": [],
   "source": [
    "data.shape #shape is from pandas dataframe"
   ]
  },
  {
   "cell_type": "code",
   "execution_count": null,
   "id": "4ecb38ef-f676-414a-9a36-0751d6e80f8b",
   "metadata": {},
   "outputs": [],
   "source": [
    "print('Number of Rows available in our dataset:',data.shape[0])\n",
    "print('Number of Columns available in our dataset:',data.shape[1])"
   ]
  },
  {
   "cell_type": "markdown",
   "id": "3050cb60-f053-4efc-8654-777b3e90d6be",
   "metadata": {},
   "source": [
    "### 4. Getting information about our dataset (like total number rows, total number of columns, datatypes of each column and memory requirement)"
   ]
  },
  {
   "cell_type": "code",
   "execution_count": null,
   "id": "0f876ea9-6187-41d7-aa46-a3374628d257",
   "metadata": {},
   "outputs": [],
   "source": [
    "data.info()"
   ]
  },
  {
   "cell_type": "markdown",
   "id": "b25b0ef2-c1ef-4cfe-be3a-d80703e5f26e",
   "metadata": {},
   "source": [
    "### 4. Check missing (null) values in the dataset"
   ]
  },
  {
   "cell_type": "code",
   "execution_count": null,
   "id": "11b6720c-c038-4342-aa72-6ef494847747",
   "metadata": {},
   "outputs": [],
   "source": [
    "print('Any missing value?',data.isnull().values.any()) #answer is true which means that our dataset contains some missing values"
   ]
  },
  {
   "cell_type": "code",
   "execution_count": null,
   "id": "696ba958-0099-4e60-990e-cadfb29ec6ad",
   "metadata": {},
   "outputs": [],
   "source": [
    "data.isnull() #we have to check which columns have missing values"
   ]
  },
  {
   "cell_type": "code",
   "execution_count": null,
   "id": "0d20c333-f343-4f85-9211-0ef4109c3c26",
   "metadata": {},
   "outputs": [],
   "source": [
    "data.isnull().sum() #we want to find sum of true values"
   ]
  },
  {
   "cell_type": "code",
   "execution_count": null,
   "id": "d90795a5-476c-4cd4-a34a-fd2ff32643e0",
   "metadata": {},
   "outputs": [],
   "source": [
    "sns.heatmap(data.isnull()) #we can also visualize the missing values using seaborn's heatmap, the missing values are with the lighter color"
   ]
  },
  {
   "cell_type": "code",
   "execution_count": null,
   "id": "2da47f18-3905-4c8e-81cd-228da6e8dd67",
   "metadata": {},
   "outputs": [],
   "source": [
    "per_missing = data.isnull().sum()*100/len(data)\n",
    "print(per_missing) #we see that around 13% values are missing in the 'Revenue' column and 6.4% in the 'Metascore' column"
   ]
  },
  {
   "cell_type": "markdown",
   "id": "ccde5f8a-f718-437f-b0e9-60b95a96ee3a",
   "metadata": {},
   "source": [
    "### 6. Drop all the missing values"
   ]
  },
  {
   "cell_type": "code",
   "execution_count": null,
   "id": "dd3c53c3-d06d-459a-b59b-b044c5540773",
   "metadata": {},
   "outputs": [],
   "source": [
    "data.dropna(axis=0)"
   ]
  },
  {
   "cell_type": "markdown",
   "id": "3af88e18-4038-4f23-abcb-ee32ea77cb11",
   "metadata": {},
   "source": [
    "### 7. Check for duplicate data"
   ]
  },
  {
   "cell_type": "code",
   "execution_count": null,
   "id": "09229648-ca3f-4f02-a934-f56b1a696e46",
   "metadata": {},
   "outputs": [],
   "source": [
    "dup_data=data.duplicated().any()"
   ]
  },
  {
   "cell_type": "code",
   "execution_count": null,
   "id": "61addb45-e616-416d-9cfd-b205492398eb",
   "metadata": {},
   "outputs": [],
   "source": [
    "print('There are duplicated values:', dup_data) #false means we have no duplicated data!!"
   ]
  },
  {
   "cell_type": "code",
   "execution_count": null,
   "id": "31318c8b-d136-44fd-86fe-42b8dc6d14a8",
   "metadata": {},
   "outputs": [],
   "source": [
    "data = data.drop_duplicates()\n",
    "print(data)"
   ]
  },
  {
   "cell_type": "markdown",
   "id": "789e23a7-620b-42c6-a9cf-3af9a333a493",
   "metadata": {},
   "source": [
    "### 8. Get overall statistics about the dataframe"
   ]
  },
  {
   "cell_type": "code",
   "execution_count": null,
   "id": "51cbf2d4-6e49-4881-8290-59a5da9f774c",
   "metadata": {},
   "outputs": [],
   "source": [
    "data.describe() #we have the statistics about our dataset (this by default is about all numerical columns only, otherwise we have the command bellow.)"
   ]
  },
  {
   "cell_type": "code",
   "execution_count": null,
   "id": "a380c49a-3e27-424f-9182-9539ca73032e",
   "metadata": {},
   "outputs": [],
   "source": [
    "data.describe(include='all')"
   ]
  },
  {
   "cell_type": "markdown",
   "id": "e0890feb-3b1f-4736-8dd5-0b9a5ea53fd6",
   "metadata": {},
   "source": [
    "### 9. Display title of the movie having runtime >= 180 minutes"
   ]
  },
  {
   "cell_type": "code",
   "execution_count": null,
   "id": "b8ff4876-39db-4775-819c-385c5b3acf2a",
   "metadata": {},
   "outputs": [],
   "source": [
    "print(data.columns) #or just data.columns"
   ]
  },
  {
   "cell_type": "code",
   "execution_count": null,
   "id": "2f211769-8e22-4078-948b-96f796fa1c7a",
   "metadata": {},
   "outputs": [],
   "source": [
    "data[data['Runtime (Minutes)'] >= 180] #we don't need to write print"
   ]
  },
  {
   "cell_type": "code",
   "execution_count": null,
   "id": "09c0633b-8d18-49c5-bb7e-d9f0adf460b9",
   "metadata": {},
   "outputs": [],
   "source": [
    "data[data['Runtime (Minutes)'] >= 180] ['Title'] #because we ONLYneed the title of the movie, not all the information! we can also write print(data[data['Runtime (Minutes)'] >= 180] ['Title'])"
   ]
  },
  {
   "cell_type": "markdown",
   "id": "11e24ac1-85a8-49c2-b58c-0cc0ff1474bb",
   "metadata": {},
   "source": [
    "### 10. In which year there was the highest average voting?"
   ]
  },
  {
   "cell_type": "code",
   "execution_count": null,
   "id": "ac88b1ac-917b-458b-883d-d4d930f47d4d",
   "metadata": {},
   "outputs": [],
   "source": [
    "data.columns #no need to write print because we are using jupyter!"
   ]
  },
  {
   "cell_type": "code",
   "execution_count": null,
   "id": "cf46108f-a5bf-444c-9b52-c5cac0ad3aa3",
   "metadata": {},
   "outputs": [],
   "source": [
    "data.groupby('Year') ['Votes'].mean()"
   ]
  },
  {
   "cell_type": "code",
   "execution_count": null,
   "id": "2289b93e-5376-4081-a164-079e543b687b",
   "metadata": {},
   "outputs": [],
   "source": [
    "data.groupby('Year') ['Votes'].mean().sort_values(ascending=False) #because by default it sorts our data in ascending order. (from the output we see that highest voting was in year 2012)"
   ]
  },
  {
   "cell_type": "code",
   "execution_count": null,
   "id": "7806b04b-a335-418a-90ae-6146e4bb6db7",
   "metadata": {},
   "outputs": [],
   "source": [
    "sns.barplot(x='Year', y='Votes', data=data) #we can visualise this using seaborn's barplot! \n",
    "plt.title('Votes by Year') #we're decorating the graph with a title\n",
    "plt.show #we can use barplots to see the relationships between technical data and at least one numerical variable"
   ]
  },
  {
   "cell_type": "markdown",
   "id": "7ff7b268-f5b0-4f6a-be28-bcc223c73e47",
   "metadata": {},
   "source": [
    "### 11. In which year there was the highest average revenue? "
   ]
  },
  {
   "cell_type": "code",
   "execution_count": null,
   "id": "28473838-47ff-4a4b-90d5-190c93c4e0d4",
   "metadata": {},
   "outputs": [],
   "source": [
    "data.columns"
   ]
  },
  {
   "cell_type": "code",
   "execution_count": null,
   "id": "29768b91-e13d-4698-8919-48c07c01a9ab",
   "metadata": {},
   "outputs": [],
   "source": [
    "data.groupby('Year') ['Revenue (Millions)'].mean().sort_values(ascending=False) #similar to step 10"
   ]
  },
  {
   "cell_type": "code",
   "execution_count": null,
   "id": "7182c698-1886-4e93-9a09-137dda8ba3cc",
   "metadata": {},
   "outputs": [],
   "source": [
    "sns.barplot(x='Year', y='Revenue (Millions)', data=data) #we can visualise this using seaborn's barplot! \n",
    "plt.title('Revenue (millions) by Year') #we're decorating the graph with a title\n",
    "plt.show #from the barplot we can see that the highest revenue was in year 2009"
   ]
  },
  {
   "cell_type": "markdown",
   "id": "144bbc0b-9bff-41b4-888c-518ca7a0d15e",
   "metadata": {},
   "source": [
    "### 12. Find the average rating for each director"
   ]
  },
  {
   "cell_type": "code",
   "execution_count": null,
   "id": "cc69d3d5-e28d-4676-a860-f35ca30f9147",
   "metadata": {},
   "outputs": [],
   "source": [
    "data.columns #to know which column we need to work with! as we can see, we need to work with 'Director' and 'Rating' columnns!"
   ]
  },
  {
   "cell_type": "code",
   "execution_count": null,
   "id": "8e0478b0-9f95-456c-928b-b98f3d224e2c",
   "metadata": {},
   "outputs": [],
   "source": [
    "data.groupby('Director')['Rating'].mean() #we need to find the average so we use mean() from pandas dataframe"
   ]
  },
  {
   "cell_type": "code",
   "execution_count": null,
   "id": "1e7ec656-d553-4304-8044-dcb0426c6ab1",
   "metadata": {},
   "outputs": [],
   "source": [
    "data.groupby('Director')['Rating'].mean().sort_values(ascending=False) #if we want to sort in ascending or descending order!"
   ]
  },
  {
   "cell_type": "markdown",
   "id": "9784cc72-3158-47fb-b4ac-c5b39200df1b",
   "metadata": {},
   "source": [
    "### 13.Display top 10 lengthy movies title and runtime"
   ]
  },
  {
   "cell_type": "code",
   "execution_count": null,
   "id": "b91c6792-6c08-4406-9841-a7af3cba108b",
   "metadata": {},
   "outputs": [],
   "source": [
    " data.columns"
   ]
  },
  {
   "cell_type": "code",
   "execution_count": null,
   "id": "4461caa8-9ba8-4189-bb61-8f3ff3b7cda6",
   "metadata": {},
   "outputs": [],
   "source": [
    "data.nlargest(10,'Runtime (Minutes)')"
   ]
  },
  {
   "cell_type": "code",
   "execution_count": null,
   "id": "ad17e12a-979d-4235-b91f-7737074ef0b8",
   "metadata": {},
   "outputs": [],
   "source": [
    "data.nlargest(10,'Runtime (Minutes)')[['Title','Runtime (Minutes)']]"
   ]
  },
  {
   "cell_type": "code",
   "execution_count": null,
   "id": "680f6cdd-ecc7-4fb4-8d83-32d8af922ae5",
   "metadata": {},
   "outputs": [],
   "source": [
    "top10_len=data.nlargest(10,'Runtime (Minutes)')[['Title','Runtime (Minutes)']]\\\n",
    ".set_index('Title')"
   ]
  },
  {
   "cell_type": "code",
   "execution_count": null,
   "id": "24e6067d-ea72-49cc-8f3d-a75ea80de2ff",
   "metadata": {},
   "outputs": [],
   "source": [
    "top10_len"
   ]
  },
  {
   "cell_type": "code",
   "execution_count": null,
   "id": "ec95468d-1dc8-4937-9cb6-4177a587301e",
   "metadata": {},
   "outputs": [],
   "source": [
    "sns.barplot(x='Runtime (Minutes)', y=top10_len.index, data=top10_len)#we can visualise it by using barplot"
   ]
  },
  {
   "cell_type": "markdown",
   "id": "9a63296a-2b13-49f2-9503-781c1a802c13",
   "metadata": {},
   "source": [
    "### 14. Display number of movies per year"
   ]
  },
  {
   "cell_type": "code",
   "execution_count": null,
   "id": "5b0ffdbc-f1ec-4e7c-b2ba-ce75b2f89589",
   "metadata": {},
   "outputs": [],
   "source": [
    "data.columns"
   ]
  },
  {
   "cell_type": "code",
   "execution_count": null,
   "id": "d2f01341-e2d0-4041-8a06-4f0bf6dc30e7",
   "metadata": {},
   "outputs": [],
   "source": [
    "data['Year'].value_counts()"
   ]
  },
  {
   "cell_type": "code",
   "execution_count": null,
   "id": "ca08970c-9092-4b79-b5ce-9ab17dbd432f",
   "metadata": {},
   "outputs": [],
   "source": [
    "sns.countplot(x='Year', data=data) #lets visualize this by using seaborn's countplot"
   ]
  },
  {
   "cell_type": "code",
   "execution_count": null,
   "id": "39acde7b-9357-4a57-8d42-b5cce9df68b0",
   "metadata": {},
   "outputs": [],
   "source": [
    "sns.countplot(x='Year', data=data) #lets decorate this graph\n",
    "plt.title('Number of movies per year')\n",
    "plt.show"
   ]
  },
  {
   "cell_type": "markdown",
   "id": "30381655-9e9b-4d12-8098-7611f35b9b51",
   "metadata": {},
   "source": [
    "### 15.Find most popular movie title (highest revenue)"
   ]
  },
  {
   "cell_type": "code",
   "execution_count": null,
   "id": "2b9f6fc9-1256-4422-973c-7cfced33c130",
   "metadata": {},
   "outputs": [],
   "source": [
    "data.columns"
   ]
  },
  {
   "cell_type": "code",
   "execution_count": null,
   "id": "5f052358-15b1-4194-99f0-460aeb70460b",
   "metadata": {},
   "outputs": [],
   "source": [
    "data['Revenue (Millions)'].max()"
   ]
  },
  {
   "cell_type": "code",
   "execution_count": null,
   "id": "8a1b026a-4c4c-41aa-a371-ebedfce9916e",
   "metadata": {},
   "outputs": [],
   "source": [
    "data['Revenue (Millions)'].max()==data['Revenue (Millions)'] #we want to compare the maximum value we found with other maximum values from Revenue column"
   ]
  },
  {
   "cell_type": "code",
   "execution_count": null,
   "id": "3640e598-e995-4443-b0a2-f18dd48805ac",
   "metadata": {},
   "outputs": [],
   "source": [
    "data[data['Revenue (Millions)'].max()==data['Revenue (Millions)']]"
   ]
  },
  {
   "cell_type": "code",
   "execution_count": null,
   "id": "67cc3139-3c59-4d24-919a-6911559cbbe3",
   "metadata": {},
   "outputs": [],
   "source": [
    "data[data['Revenue (Millions)'].max()==data['Revenue (Millions)']] ['Title'] #we only want the movie title"
   ]
  },
  {
   "cell_type": "markdown",
   "id": "55c97eb5-1d0e-4ec6-bf05-0141ceeb1702",
   "metadata": {},
   "source": [
    "### 16. Display top 10 highest rated movie title and its directors DOESNT WORK!!!"
   ]
  },
  {
   "cell_type": "code",
   "execution_count": null,
   "id": "f678f3be-ac22-4881-af1b-721877d95375",
   "metadata": {},
   "outputs": [],
   "source": [
    "data.columns #first we display the column names (we see that we need to work with the 'Rating' column)"
   ]
  },
  {
   "cell_type": "code",
   "execution_count": null,
   "id": "b01db2f4-9556-4f16-a321-a2fff7fdb634",
   "metadata": {},
   "outputs": [],
   "source": [
    "top10_len=data.nlargest(10,'Rating')[['Title','Rating','Director']]\\\n",
    ".set_index('Title') # we add this \\ to change line"
   ]
  },
  {
   "cell_type": "code",
   "execution_count": null,
   "id": "0fc5a67f-a041-4551-96cc-d9d3e8a83d2e",
   "metadata": {},
   "outputs": [],
   "source": [
    "top10_len"
   ]
  },
  {
   "cell_type": "code",
   "execution_count": null,
   "id": "cc3c74e4-f10e-4f97-b3bd-51bc9630f5f0",
   "metadata": {},
   "outputs": [],
   "source": [
    "sns.barplot(x='Rating', y=top10_len.index, data=top10_len) #lets visualize it"
   ]
  },
  {
   "cell_type": "code",
   "execution_count": null,
   "id": "db221bbf-4efd-4111-ba6b-57f2e468df4b",
   "metadata": {},
   "outputs": [],
   "source": [
    "sns.barplot(x='Rating', y=top10_len.index, data=top10_len, hue='Director') #we are using hue parameter because we need the director as well"
   ]
  },
  {
   "cell_type": "code",
   "execution_count": null,
   "id": "80dc68bc-522f-4339-9685-ff99d07bad92",
   "metadata": {},
   "outputs": [],
   "source": [
    "print(top10_len.columns)"
   ]
  },
  {
   "cell_type": "markdown",
   "id": "9bc80de8-98c3-475e-84a7-75f1ea4bdbc9",
   "metadata": {},
   "source": [
    "### 17. Display top 10 highest revenue movie titles"
   ]
  },
  {
   "cell_type": "code",
   "execution_count": null,
   "id": "3f9751bf-9626-4543-8b90-68b798a5759c",
   "metadata": {},
   "outputs": [],
   "source": [
    "data.columns"
   ]
  },
  {
   "cell_type": "code",
   "execution_count": null,
   "id": "1a76ef60-d359-4805-8b45-864a654b01c1",
   "metadata": {},
   "outputs": [],
   "source": [
    "data.nlargest(10,'Revenue (Millions)')"
   ]
  },
  {
   "cell_type": "code",
   "execution_count": null,
   "id": "95568519-f2f5-4c67-a3cd-3b55e615a4e6",
   "metadata": {},
   "outputs": [],
   "source": [
    "data.nlargest(10,'Revenue (Millions)') ['Title']"
   ]
  },
  {
   "cell_type": "code",
   "execution_count": null,
   "id": "7ef8af52-4da6-4329-8339-75fdd393a950",
   "metadata": {},
   "outputs": [],
   "source": [
    "data.nlargest(10,'Revenue (Millions)') [['Title', 'Revenue (Millions)']]"
   ]
  },
  {
   "cell_type": "code",
   "execution_count": null,
   "id": "fc3eadd9-fd37-4f69-9135-3655b1cc1873",
   "metadata": {},
   "outputs": [],
   "source": [
    "top_10=data.nlargest(10,'Revenue (Millions)') [['Title', 'Revenue (Millions)']].\\\n",
    "set_index('Title')"
   ]
  },
  {
   "cell_type": "code",
   "execution_count": null,
   "id": "b86a8bb1-2a8a-4f15-8e55-24bdedd63cd2",
   "metadata": {},
   "outputs": [],
   "source": [
    "top_10"
   ]
  },
  {
   "cell_type": "code",
   "execution_count": null,
   "id": "713fa14d-b59b-405e-b1dd-4a0df89fbdba",
   "metadata": {},
   "outputs": [],
   "source": [
    "sns.barplot (x='Revenue (Millions)', y=top_10.index, data=top_10)"
   ]
  },
  {
   "cell_type": "code",
   "execution_count": null,
   "id": "b341dcaf-2e0b-44a3-92d9-289b8a8de19d",
   "metadata": {},
   "outputs": [],
   "source": [
    "sns.barplot (x='Revenue (Millions)', y=top_10.index, data=top_10)\n",
    "plt.title('Top 10 highest revenue movie titles') #lets add title to the graph"
   ]
  },
  {
   "cell_type": "markdown",
   "id": "2a6eeb13-ef57-446a-be34-529e1046387e",
   "metadata": {},
   "source": [
    "### 18. Find average rating of movies year wise"
   ]
  },
  {
   "cell_type": "code",
   "execution_count": null,
   "id": "4354a880-28ac-45ee-826a-a8968075daf1",
   "metadata": {},
   "outputs": [],
   "source": [
    "data.columns"
   ]
  },
  {
   "cell_type": "code",
   "execution_count": null,
   "id": "5cecfcc2-c9ec-4765-b9c8-70704d9e7119",
   "metadata": {},
   "outputs": [],
   "source": [
    "data.groupby('Year')['Rating'].mean().sort_values(ascending=False)"
   ]
  },
  {
   "cell_type": "markdown",
   "id": "2f7309e8-850a-4a46-bab4-0a5f7ba071a4",
   "metadata": {},
   "source": [
    "### 19. Does rating affect the revenue?"
   ]
  },
  {
   "cell_type": "code",
   "execution_count": null,
   "id": "91d76645-8707-4fd8-a677-f5aa8bec4b53",
   "metadata": {},
   "outputs": [],
   "source": [
    "sns.scatterplot (x='Rating', y='Revenue (Millions)', data=data) "
   ]
  },
  {
   "cell_type": "markdown",
   "id": "5002cea2-11fb-4d01-99be-9ed54f7570ed",
   "metadata": {},
   "source": [
    "### 20. Classify movies based on ratings (Excellent, good and average)"
   ]
  },
  {
   "cell_type": "code",
   "execution_count": null,
   "id": "b10d385a-d3b9-44f8-9a95-de270bbd8b99",
   "metadata": {},
   "outputs": [],
   "source": [
    "data.columns"
   ]
  },
  {
   "cell_type": "code",
   "execution_count": null,
   "id": "83325306-1d09-4144-b538-200c0ac80025",
   "metadata": {},
   "outputs": [],
   "source": [
    "def rating(rating):\n",
    "    if rating>=7.0:\n",
    "        return \"Excellent\"\n",
    "    elif rating>=6.0:\n",
    "        return \"Good\"\n",
    "    else:\n",
    "        return \"Average\""
   ]
  },
  {
   "cell_type": "code",
   "execution_count": null,
   "id": "9c820f6c-4b45-4489-9fb7-549f4f476d44",
   "metadata": {},
   "outputs": [],
   "source": [
    "data['rating_cat']=data['Rating'].apply(rating)"
   ]
  },
  {
   "cell_type": "code",
   "execution_count": null,
   "id": "3e8cc093-1349-4b7f-90bb-536e22600e6b",
   "metadata": {},
   "outputs": [],
   "source": [
    "data.head()"
   ]
  },
  {
   "cell_type": "markdown",
   "id": "42bfdeb2-b928-4bc8-95cf-ba448a982342",
   "metadata": {},
   "source": [
    "### 21. Count number of action movies"
   ]
  },
  {
   "cell_type": "code",
   "execution_count": null,
   "id": "156bc0c1-ea99-4d77-a6fc-ae99685a4c99",
   "metadata": {},
   "outputs": [],
   "source": [
    "data.columns"
   ]
  },
  {
   "cell_type": "code",
   "execution_count": null,
   "id": "0ad1cefc-2abe-44c2-87d9-a89f5af94ba2",
   "metadata": {},
   "outputs": [],
   "source": [
    "data['Genre'].dtype"
   ]
  },
  {
   "cell_type": "code",
   "execution_count": null,
   "id": "b3812945-daf0-4247-a929-ae41980be196",
   "metadata": {},
   "outputs": [],
   "source": [
    "data['Genre'].str.contains('Action', case=False)"
   ]
  },
  {
   "cell_type": "code",
   "execution_count": null,
   "id": "cbd67456-086c-40ed-be97-e0b1e47b4af6",
   "metadata": {},
   "outputs": [],
   "source": [
    "data[data['Genre'].str.contains('Action', case=False)]"
   ]
  },
  {
   "cell_type": "code",
   "execution_count": null,
   "id": "6d05f050-42f6-42d2-93b3-a0b1ae61c987",
   "metadata": {},
   "outputs": [],
   "source": [
    "len(data[data['Genre'].str.contains('Action', case=False)])"
   ]
  },
  {
   "cell_type": "markdown",
   "id": "54ca8e1f-9202-4f26-9a03-d810cdceede9",
   "metadata": {},
   "source": [
    "### 22. Find unique values from genre"
   ]
  },
  {
   "cell_type": "code",
   "execution_count": null,
   "id": "598a2533-c1e9-4f82-9978-2d0237c78d0e",
   "metadata": {},
   "outputs": [],
   "source": [
    "data.columns"
   ]
  },
  {
   "cell_type": "code",
   "execution_count": null,
   "id": "e6c65e47-ef41-42fa-abf8-f12a792aaada",
   "metadata": {},
   "outputs": [],
   "source": [
    "data['Genre']"
   ]
  },
  {
   "cell_type": "code",
   "execution_count": null,
   "id": "53ce1708-3090-4637-b7f9-6d3fe973cad0",
   "metadata": {},
   "outputs": [],
   "source": [
    "list1=[]\n",
    "for value in data['Genre']:\n",
    "    list1.append(value.split(','))"
   ]
  },
  {
   "cell_type": "code",
   "execution_count": null,
   "id": "c4065430-37aa-4b56-a061-a613e1b32520",
   "metadata": {},
   "outputs": [],
   "source": [
    "list1"
   ]
  },
  {
   "cell_type": "code",
   "execution_count": null,
   "id": "9a677e9c-022b-4f3d-8f37-e2ffefe10a02",
   "metadata": {},
   "outputs": [],
   "source": [
    "one_d=[]\n",
    "for item in list1:\n",
    "    for item1 in item:\n",
    "        one_d.append(item1)"
   ]
  },
  {
   "cell_type": "code",
   "execution_count": null,
   "id": "cc38d4ad-dc42-4bec-9c09-425635a2e8d4",
   "metadata": {},
   "outputs": [],
   "source": [
    "one_d"
   ]
  },
  {
   "cell_type": "code",
   "execution_count": null,
   "id": "7a1bed01-d8a8-420c-8be2-18ba7a8eaf40",
   "metadata": {},
   "outputs": [],
   "source": [
    "uni_list=[] #we want to find the unique values in the 'Genre' column\n",
    "for item in one_d:\n",
    "    if item not in uni_list:\n",
    "        uni_list.append(item)\n",
    "    "
   ]
  },
  {
   "cell_type": "code",
   "execution_count": null,
   "id": "5178b4ef-66e4-4b84-a0e9-b1a3940904db",
   "metadata": {},
   "outputs": [],
   "source": [
    "uni_list"
   ]
  },
  {
   "cell_type": "code",
   "execution_count": null,
   "id": "1bd5b888-6bc8-49af-906d-50e3c0c4eff9",
   "metadata": {},
   "outputs": [],
   "source": [
    "len(uni_list) #we have 20 unique values in Genre column"
   ]
  },
  {
   "cell_type": "markdown",
   "id": "7de7f5a0-7bda-4b67-a5eb-4d44f085f7b2",
   "metadata": {},
   "source": [
    "### 23. How many films of each genre were made?"
   ]
  },
  {
   "cell_type": "code",
   "execution_count": null,
   "id": "c11a7088-cbdb-43ab-bc66-fb0a983aff8b",
   "metadata": {},
   "outputs": [],
   "source": [
    "one_d=[]\n",
    "for item in list1:\n",
    "    for item1 in item:\n",
    "        one_d.append(item1)"
   ]
  },
  {
   "cell_type": "code",
   "execution_count": null,
   "id": "4151894f-a3ee-4608-8778-839980a1b719",
   "metadata": {},
   "outputs": [],
   "source": [
    "one_d"
   ]
  },
  {
   "cell_type": "code",
   "execution_count": null,
   "id": "cfcd3a97-4c00-44bd-a43e-75c4a9e5ea0a",
   "metadata": {},
   "outputs": [],
   "source": [
    "from collections import Counter"
   ]
  },
  {
   "cell_type": "code",
   "execution_count": null,
   "id": "cdc04b25-cac6-41cc-8781-d60864cd8c3a",
   "metadata": {},
   "outputs": [],
   "source": [
    "Counter(one_d)"
   ]
  },
  {
   "cell_type": "code",
   "execution_count": null,
   "id": "d71cbed8-f198-485d-8874-bf050453c3b6",
   "metadata": {},
   "outputs": [],
   "source": []
  }
 ],
 "metadata": {
  "kernelspec": {
   "display_name": "Python 3 (ipykernel)",
   "language": "python",
   "name": "python3"
  },
  "language_info": {
   "codemirror_mode": {
    "name": "ipython",
    "version": 3
   },
   "file_extension": ".py",
   "mimetype": "text/x-python",
   "name": "python",
   "nbconvert_exporter": "python",
   "pygments_lexer": "ipython3",
   "version": "3.13.1"
  }
 },
 "nbformat": 4,
 "nbformat_minor": 5
}
